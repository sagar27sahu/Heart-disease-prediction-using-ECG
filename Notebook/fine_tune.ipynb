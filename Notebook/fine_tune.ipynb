{
 "cells": [
  {
   "cell_type": "code",
   "execution_count": 5,
   "metadata": {},
   "outputs": [
    {
     "name": "stdout",
     "output_type": "stream",
     "text": [
      "Requirement already satisfied: transformers in /Users/sagarkumarsahu/Desktop/Heart-disease-prediction-using-ECG/.conda/lib/python3.11/site-packages (4.48.1)\n",
      "Requirement already satisfied: datasets in /Users/sagarkumarsahu/Desktop/Heart-disease-prediction-using-ECG/.conda/lib/python3.11/site-packages (3.2.0)\n",
      "Requirement already satisfied: torch in /Users/sagarkumarsahu/Desktop/Heart-disease-prediction-using-ECG/.conda/lib/python3.11/site-packages (2.5.1)\n",
      "Requirement already satisfied: torchvision in /Users/sagarkumarsahu/Desktop/Heart-disease-prediction-using-ECG/.conda/lib/python3.11/site-packages (0.20.1)\n",
      "Requirement already satisfied: filelock in /Users/sagarkumarsahu/Desktop/Heart-disease-prediction-using-ECG/.conda/lib/python3.11/site-packages (from transformers) (3.17.0)\n",
      "Requirement already satisfied: huggingface-hub<1.0,>=0.24.0 in /Users/sagarkumarsahu/Desktop/Heart-disease-prediction-using-ECG/.conda/lib/python3.11/site-packages (from transformers) (0.27.1)\n",
      "Requirement already satisfied: numpy>=1.17 in /Users/sagarkumarsahu/Desktop/Heart-disease-prediction-using-ECG/.conda/lib/python3.11/site-packages (from transformers) (2.0.2)\n",
      "Requirement already satisfied: packaging>=20.0 in /Users/sagarkumarsahu/Desktop/Heart-disease-prediction-using-ECG/.conda/lib/python3.11/site-packages (from transformers) (24.2)\n",
      "Requirement already satisfied: pyyaml>=5.1 in /Users/sagarkumarsahu/Desktop/Heart-disease-prediction-using-ECG/.conda/lib/python3.11/site-packages (from transformers) (6.0.2)\n",
      "Requirement already satisfied: regex!=2019.12.17 in /Users/sagarkumarsahu/Desktop/Heart-disease-prediction-using-ECG/.conda/lib/python3.11/site-packages (from transformers) (2024.11.6)\n",
      "Requirement already satisfied: requests in /Users/sagarkumarsahu/Desktop/Heart-disease-prediction-using-ECG/.conda/lib/python3.11/site-packages (from transformers) (2.32.3)\n",
      "Requirement already satisfied: tokenizers<0.22,>=0.21 in /Users/sagarkumarsahu/Desktop/Heart-disease-prediction-using-ECG/.conda/lib/python3.11/site-packages (from transformers) (0.21.0)\n",
      "Requirement already satisfied: safetensors>=0.4.1 in /Users/sagarkumarsahu/Desktop/Heart-disease-prediction-using-ECG/.conda/lib/python3.11/site-packages (from transformers) (0.5.2)\n",
      "Requirement already satisfied: tqdm>=4.27 in /Users/sagarkumarsahu/Desktop/Heart-disease-prediction-using-ECG/.conda/lib/python3.11/site-packages (from transformers) (4.67.1)\n",
      "Requirement already satisfied: pyarrow>=15.0.0 in /Users/sagarkumarsahu/Desktop/Heart-disease-prediction-using-ECG/.conda/lib/python3.11/site-packages (from datasets) (19.0.0)\n",
      "Requirement already satisfied: dill<0.3.9,>=0.3.0 in /Users/sagarkumarsahu/Desktop/Heart-disease-prediction-using-ECG/.conda/lib/python3.11/site-packages (from datasets) (0.3.8)\n",
      "Requirement already satisfied: pandas in /Users/sagarkumarsahu/Desktop/Heart-disease-prediction-using-ECG/.conda/lib/python3.11/site-packages (from datasets) (2.2.3)\n",
      "Requirement already satisfied: xxhash in /Users/sagarkumarsahu/Desktop/Heart-disease-prediction-using-ECG/.conda/lib/python3.11/site-packages (from datasets) (3.5.0)\n",
      "Requirement already satisfied: multiprocess<0.70.17 in /Users/sagarkumarsahu/Desktop/Heart-disease-prediction-using-ECG/.conda/lib/python3.11/site-packages (from datasets) (0.70.16)\n",
      "Requirement already satisfied: fsspec<=2024.9.0,>=2023.1.0 in /Users/sagarkumarsahu/Desktop/Heart-disease-prediction-using-ECG/.conda/lib/python3.11/site-packages (from fsspec[http]<=2024.9.0,>=2023.1.0->datasets) (2024.9.0)\n",
      "Requirement already satisfied: aiohttp in /Users/sagarkumarsahu/Desktop/Heart-disease-prediction-using-ECG/.conda/lib/python3.11/site-packages (from datasets) (3.11.11)\n",
      "Requirement already satisfied: typing-extensions>=4.8.0 in /Users/sagarkumarsahu/Desktop/Heart-disease-prediction-using-ECG/.conda/lib/python3.11/site-packages (from torch) (4.12.2)\n",
      "Requirement already satisfied: networkx in /Users/sagarkumarsahu/Desktop/Heart-disease-prediction-using-ECG/.conda/lib/python3.11/site-packages (from torch) (3.4.2)\n",
      "Requirement already satisfied: jinja2 in /Users/sagarkumarsahu/Desktop/Heart-disease-prediction-using-ECG/.conda/lib/python3.11/site-packages (from torch) (3.1.5)\n",
      "Requirement already satisfied: sympy==1.13.1 in /Users/sagarkumarsahu/Desktop/Heart-disease-prediction-using-ECG/.conda/lib/python3.11/site-packages (from torch) (1.13.1)\n",
      "Requirement already satisfied: mpmath<1.4,>=1.1.0 in /Users/sagarkumarsahu/Desktop/Heart-disease-prediction-using-ECG/.conda/lib/python3.11/site-packages (from sympy==1.13.1->torch) (1.3.0)\n",
      "Requirement already satisfied: pillow!=8.3.*,>=5.3.0 in /Users/sagarkumarsahu/Desktop/Heart-disease-prediction-using-ECG/.conda/lib/python3.11/site-packages (from torchvision) (11.1.0)\n",
      "Requirement already satisfied: aiohappyeyeballs>=2.3.0 in /Users/sagarkumarsahu/Desktop/Heart-disease-prediction-using-ECG/.conda/lib/python3.11/site-packages (from aiohttp->datasets) (2.4.4)\n",
      "Requirement already satisfied: aiosignal>=1.1.2 in /Users/sagarkumarsahu/Desktop/Heart-disease-prediction-using-ECG/.conda/lib/python3.11/site-packages (from aiohttp->datasets) (1.3.2)\n",
      "Requirement already satisfied: attrs>=17.3.0 in /Users/sagarkumarsahu/Desktop/Heart-disease-prediction-using-ECG/.conda/lib/python3.11/site-packages (from aiohttp->datasets) (24.3.0)\n",
      "Requirement already satisfied: frozenlist>=1.1.1 in /Users/sagarkumarsahu/Desktop/Heart-disease-prediction-using-ECG/.conda/lib/python3.11/site-packages (from aiohttp->datasets) (1.5.0)\n",
      "Requirement already satisfied: multidict<7.0,>=4.5 in /Users/sagarkumarsahu/Desktop/Heart-disease-prediction-using-ECG/.conda/lib/python3.11/site-packages (from aiohttp->datasets) (6.1.0)\n",
      "Requirement already satisfied: propcache>=0.2.0 in /Users/sagarkumarsahu/Desktop/Heart-disease-prediction-using-ECG/.conda/lib/python3.11/site-packages (from aiohttp->datasets) (0.2.1)\n",
      "Requirement already satisfied: yarl<2.0,>=1.17.0 in /Users/sagarkumarsahu/Desktop/Heart-disease-prediction-using-ECG/.conda/lib/python3.11/site-packages (from aiohttp->datasets) (1.18.3)\n",
      "Requirement already satisfied: charset-normalizer<4,>=2 in /Users/sagarkumarsahu/Desktop/Heart-disease-prediction-using-ECG/.conda/lib/python3.11/site-packages (from requests->transformers) (3.4.1)\n",
      "Requirement already satisfied: idna<4,>=2.5 in /Users/sagarkumarsahu/Desktop/Heart-disease-prediction-using-ECG/.conda/lib/python3.11/site-packages (from requests->transformers) (3.10)\n",
      "Requirement already satisfied: urllib3<3,>=1.21.1 in /Users/sagarkumarsahu/Desktop/Heart-disease-prediction-using-ECG/.conda/lib/python3.11/site-packages (from requests->transformers) (2.3.0)\n",
      "Requirement already satisfied: certifi>=2017.4.17 in /Users/sagarkumarsahu/Desktop/Heart-disease-prediction-using-ECG/.conda/lib/python3.11/site-packages (from requests->transformers) (2024.12.14)\n",
      "Requirement already satisfied: MarkupSafe>=2.0 in /Users/sagarkumarsahu/Desktop/Heart-disease-prediction-using-ECG/.conda/lib/python3.11/site-packages (from jinja2->torch) (3.0.2)\n",
      "Requirement already satisfied: python-dateutil>=2.8.2 in /Users/sagarkumarsahu/Desktop/Heart-disease-prediction-using-ECG/.conda/lib/python3.11/site-packages (from pandas->datasets) (2.9.0.post0)\n",
      "Requirement already satisfied: pytz>=2020.1 in /Users/sagarkumarsahu/Desktop/Heart-disease-prediction-using-ECG/.conda/lib/python3.11/site-packages (from pandas->datasets) (2024.2)\n",
      "Requirement already satisfied: tzdata>=2022.7 in /Users/sagarkumarsahu/Desktop/Heart-disease-prediction-using-ECG/.conda/lib/python3.11/site-packages (from pandas->datasets) (2025.1)\n",
      "Requirement already satisfied: six>=1.5 in /Users/sagarkumarsahu/Desktop/Heart-disease-prediction-using-ECG/.conda/lib/python3.11/site-packages (from python-dateutil>=2.8.2->pandas->datasets) (1.17.0)\n"
     ]
    }
   ],
   "source": [
    "!pip install transformers datasets torch torchvision\n"
   ]
  },
  {
   "cell_type": "code",
   "execution_count": 2,
   "metadata": {},
   "outputs": [
    {
     "name": "stdout",
     "output_type": "stream",
     "text": [
      "Requirement already satisfied: tf-keras in /Users/sagarkumarsahu/Desktop/Heart-disease-prediction-using-ECG/.conda/lib/python3.11/site-packages (2.18.0)\n",
      "Requirement already satisfied: tensorflow<2.19,>=2.18 in /Users/sagarkumarsahu/Desktop/Heart-disease-prediction-using-ECG/.conda/lib/python3.11/site-packages (from tf-keras) (2.18.0)\n",
      "Requirement already satisfied: absl-py>=1.0.0 in /Users/sagarkumarsahu/Desktop/Heart-disease-prediction-using-ECG/.conda/lib/python3.11/site-packages (from tensorflow<2.19,>=2.18->tf-keras) (2.1.0)\n",
      "Requirement already satisfied: astunparse>=1.6.0 in /Users/sagarkumarsahu/Desktop/Heart-disease-prediction-using-ECG/.conda/lib/python3.11/site-packages (from tensorflow<2.19,>=2.18->tf-keras) (1.6.3)\n",
      "Requirement already satisfied: flatbuffers>=24.3.25 in /Users/sagarkumarsahu/Desktop/Heart-disease-prediction-using-ECG/.conda/lib/python3.11/site-packages (from tensorflow<2.19,>=2.18->tf-keras) (25.1.21)\n",
      "Requirement already satisfied: gast!=0.5.0,!=0.5.1,!=0.5.2,>=0.2.1 in /Users/sagarkumarsahu/Desktop/Heart-disease-prediction-using-ECG/.conda/lib/python3.11/site-packages (from tensorflow<2.19,>=2.18->tf-keras) (0.6.0)\n",
      "Requirement already satisfied: google-pasta>=0.1.1 in /Users/sagarkumarsahu/Desktop/Heart-disease-prediction-using-ECG/.conda/lib/python3.11/site-packages (from tensorflow<2.19,>=2.18->tf-keras) (0.2.0)\n",
      "Requirement already satisfied: libclang>=13.0.0 in /Users/sagarkumarsahu/Desktop/Heart-disease-prediction-using-ECG/.conda/lib/python3.11/site-packages (from tensorflow<2.19,>=2.18->tf-keras) (18.1.1)\n",
      "Requirement already satisfied: opt-einsum>=2.3.2 in /Users/sagarkumarsahu/Desktop/Heart-disease-prediction-using-ECG/.conda/lib/python3.11/site-packages (from tensorflow<2.19,>=2.18->tf-keras) (3.4.0)\n",
      "Requirement already satisfied: packaging in /Users/sagarkumarsahu/Desktop/Heart-disease-prediction-using-ECG/.conda/lib/python3.11/site-packages (from tensorflow<2.19,>=2.18->tf-keras) (24.2)\n",
      "Requirement already satisfied: protobuf!=4.21.0,!=4.21.1,!=4.21.2,!=4.21.3,!=4.21.4,!=4.21.5,<6.0.0dev,>=3.20.3 in /Users/sagarkumarsahu/Desktop/Heart-disease-prediction-using-ECG/.conda/lib/python3.11/site-packages (from tensorflow<2.19,>=2.18->tf-keras) (5.29.3)\n",
      "Requirement already satisfied: requests<3,>=2.21.0 in /Users/sagarkumarsahu/Desktop/Heart-disease-prediction-using-ECG/.conda/lib/python3.11/site-packages (from tensorflow<2.19,>=2.18->tf-keras) (2.32.3)\n",
      "Requirement already satisfied: setuptools in /Users/sagarkumarsahu/Desktop/Heart-disease-prediction-using-ECG/.conda/lib/python3.11/site-packages (from tensorflow<2.19,>=2.18->tf-keras) (75.8.0)\n",
      "Requirement already satisfied: six>=1.12.0 in /Users/sagarkumarsahu/Desktop/Heart-disease-prediction-using-ECG/.conda/lib/python3.11/site-packages (from tensorflow<2.19,>=2.18->tf-keras) (1.17.0)\n",
      "Requirement already satisfied: termcolor>=1.1.0 in /Users/sagarkumarsahu/Desktop/Heart-disease-prediction-using-ECG/.conda/lib/python3.11/site-packages (from tensorflow<2.19,>=2.18->tf-keras) (2.5.0)\n",
      "Requirement already satisfied: typing-extensions>=3.6.6 in /Users/sagarkumarsahu/Desktop/Heart-disease-prediction-using-ECG/.conda/lib/python3.11/site-packages (from tensorflow<2.19,>=2.18->tf-keras) (4.12.2)\n",
      "Requirement already satisfied: wrapt>=1.11.0 in /Users/sagarkumarsahu/Desktop/Heart-disease-prediction-using-ECG/.conda/lib/python3.11/site-packages (from tensorflow<2.19,>=2.18->tf-keras) (1.17.2)\n",
      "Requirement already satisfied: grpcio<2.0,>=1.24.3 in /Users/sagarkumarsahu/Desktop/Heart-disease-prediction-using-ECG/.conda/lib/python3.11/site-packages (from tensorflow<2.19,>=2.18->tf-keras) (1.67.1)\n",
      "Requirement already satisfied: tensorboard<2.19,>=2.18 in /Users/sagarkumarsahu/Desktop/Heart-disease-prediction-using-ECG/.conda/lib/python3.11/site-packages (from tensorflow<2.19,>=2.18->tf-keras) (2.18.0)\n",
      "Requirement already satisfied: keras>=3.5.0 in /Users/sagarkumarsahu/Desktop/Heart-disease-prediction-using-ECG/.conda/lib/python3.11/site-packages (from tensorflow<2.19,>=2.18->tf-keras) (3.8.0)\n",
      "Requirement already satisfied: numpy<2.1.0,>=1.26.0 in /Users/sagarkumarsahu/Desktop/Heart-disease-prediction-using-ECG/.conda/lib/python3.11/site-packages (from tensorflow<2.19,>=2.18->tf-keras) (2.0.2)\n",
      "Requirement already satisfied: h5py>=3.11.0 in /Users/sagarkumarsahu/Desktop/Heart-disease-prediction-using-ECG/.conda/lib/python3.11/site-packages (from tensorflow<2.19,>=2.18->tf-keras) (3.12.1)\n",
      "Requirement already satisfied: ml-dtypes<0.5.0,>=0.4.0 in /Users/sagarkumarsahu/Desktop/Heart-disease-prediction-using-ECG/.conda/lib/python3.11/site-packages (from tensorflow<2.19,>=2.18->tf-keras) (0.4.1)\n",
      "Requirement already satisfied: tensorflow-io-gcs-filesystem>=0.23.1 in /Users/sagarkumarsahu/Desktop/Heart-disease-prediction-using-ECG/.conda/lib/python3.11/site-packages (from tensorflow<2.19,>=2.18->tf-keras) (0.37.1)\n",
      "Requirement already satisfied: wheel<1.0,>=0.23.0 in /Users/sagarkumarsahu/Desktop/Heart-disease-prediction-using-ECG/.conda/lib/python3.11/site-packages (from astunparse>=1.6.0->tensorflow<2.19,>=2.18->tf-keras) (0.45.1)\n",
      "Requirement already satisfied: rich in /Users/sagarkumarsahu/Desktop/Heart-disease-prediction-using-ECG/.conda/lib/python3.11/site-packages (from keras>=3.5.0->tensorflow<2.19,>=2.18->tf-keras) (13.9.4)\n",
      "Requirement already satisfied: namex in /Users/sagarkumarsahu/Desktop/Heart-disease-prediction-using-ECG/.conda/lib/python3.11/site-packages (from keras>=3.5.0->tensorflow<2.19,>=2.18->tf-keras) (0.0.8)\n",
      "Requirement already satisfied: optree in /Users/sagarkumarsahu/Desktop/Heart-disease-prediction-using-ECG/.conda/lib/python3.11/site-packages (from keras>=3.5.0->tensorflow<2.19,>=2.18->tf-keras) (0.14.0)\n",
      "Requirement already satisfied: charset-normalizer<4,>=2 in /Users/sagarkumarsahu/Desktop/Heart-disease-prediction-using-ECG/.conda/lib/python3.11/site-packages (from requests<3,>=2.21.0->tensorflow<2.19,>=2.18->tf-keras) (3.4.1)\n",
      "Requirement already satisfied: idna<4,>=2.5 in /Users/sagarkumarsahu/Desktop/Heart-disease-prediction-using-ECG/.conda/lib/python3.11/site-packages (from requests<3,>=2.21.0->tensorflow<2.19,>=2.18->tf-keras) (3.10)\n",
      "Requirement already satisfied: urllib3<3,>=1.21.1 in /Users/sagarkumarsahu/Desktop/Heart-disease-prediction-using-ECG/.conda/lib/python3.11/site-packages (from requests<3,>=2.21.0->tensorflow<2.19,>=2.18->tf-keras) (2.3.0)\n",
      "Requirement already satisfied: certifi>=2017.4.17 in /Users/sagarkumarsahu/Desktop/Heart-disease-prediction-using-ECG/.conda/lib/python3.11/site-packages (from requests<3,>=2.21.0->tensorflow<2.19,>=2.18->tf-keras) (2024.12.14)\n",
      "Requirement already satisfied: markdown>=2.6.8 in /Users/sagarkumarsahu/Desktop/Heart-disease-prediction-using-ECG/.conda/lib/python3.11/site-packages (from tensorboard<2.19,>=2.18->tensorflow<2.19,>=2.18->tf-keras) (3.7)\n",
      "Requirement already satisfied: tensorboard-data-server<0.8.0,>=0.7.0 in /Users/sagarkumarsahu/Desktop/Heart-disease-prediction-using-ECG/.conda/lib/python3.11/site-packages (from tensorboard<2.19,>=2.18->tensorflow<2.19,>=2.18->tf-keras) (0.7.0)\n",
      "Requirement already satisfied: werkzeug>=1.0.1 in /Users/sagarkumarsahu/Desktop/Heart-disease-prediction-using-ECG/.conda/lib/python3.11/site-packages (from tensorboard<2.19,>=2.18->tensorflow<2.19,>=2.18->tf-keras) (3.1.3)\n",
      "Requirement already satisfied: MarkupSafe>=2.1.1 in /Users/sagarkumarsahu/Desktop/Heart-disease-prediction-using-ECG/.conda/lib/python3.11/site-packages (from werkzeug>=1.0.1->tensorboard<2.19,>=2.18->tensorflow<2.19,>=2.18->tf-keras) (3.0.2)\n",
      "Requirement already satisfied: markdown-it-py>=2.2.0 in /Users/sagarkumarsahu/Desktop/Heart-disease-prediction-using-ECG/.conda/lib/python3.11/site-packages (from rich->keras>=3.5.0->tensorflow<2.19,>=2.18->tf-keras) (3.0.0)\n",
      "Requirement already satisfied: pygments<3.0.0,>=2.13.0 in /Users/sagarkumarsahu/Desktop/Heart-disease-prediction-using-ECG/.conda/lib/python3.11/site-packages (from rich->keras>=3.5.0->tensorflow<2.19,>=2.18->tf-keras) (2.19.1)\n",
      "Requirement already satisfied: mdurl~=0.1 in /Users/sagarkumarsahu/Desktop/Heart-disease-prediction-using-ECG/.conda/lib/python3.11/site-packages (from markdown-it-py>=2.2.0->rich->keras>=3.5.0->tensorflow<2.19,>=2.18->tf-keras) (0.1.2)\n"
     ]
    }
   ],
   "source": [
    "!pip install tf-keras"
   ]
  },
  {
   "cell_type": "code",
   "execution_count": null,
   "metadata": {},
   "outputs": [],
   "source": [
    "import torch\n",
    "torch.cuda.empty_cache()\n"
   ]
  },
  {
   "cell_type": "code",
   "execution_count": null,
   "metadata": {},
   "outputs": [],
   "source": [
    "###fine tune and push the model to hugging face hub\n",
    "from transformers import ViTForImageClassification, TrainingArguments, Trainer, ViTImageProcessor\n",
    "from datasets import load_dataset\n",
    "import torch\n",
    "from PIL import Image\n",
    "\n",
    "# Load your dataset\n",
    "dataset = load_dataset(\"sagar27kumar/ECG-XRAY-dataset\")\n",
    "\n",
    "# Load the processor and model\n",
    "processor = ViTImageProcessor.from_pretrained(\"google/vit-large-patch32-384\")\n",
    "model = ViTForImageClassification.from_pretrained(\n",
    "    \"google/vit-large-patch32-384\",\n",
    "    num_labels=4,  # Number of classes in your dataset\n",
    "    id2label={0: \"Abnormal Heartbeat\", 1: \"History of MI\", 2: \"Myocardial Infarction\", 3: \"Normal Person\"},\n",
    "    label2id={\"Abnormal Heartbeat\": 0, \"History of MI\": 1, \"Myocardial Infarction\": 2, \"Normal Person\": 3},\n",
    "    ignore_mismatched_sizes=True\n",
    ")\n",
    "\n",
    "\n",
    "\n",
    "\n",
    "\n",
    "\n",
    "\n",
    "# Preprocess the dataset\n",
    "def preprocess_function(examples):\n",
    "    images = [Image.open(img_path).convert(\"RGB\") for img_path in examples[\"image\"]]\n",
    "    inputs = processor(images=images, return_tensors=\"pt\")\n",
    "    inputs[\"labels\"] = torch.tensor(examples[\"label\"], dtype=torch.long)\n",
    "    return inputs\n",
    "\n",
    "# Apply preprocessing to dataset\n",
    "prepared_dataset = dataset.with_transform(preprocess_function)\n",
    "\n",
    "# Define training arguments\n",
    "training_args = TrainingArguments(\n",
    "    output_dir=\"./results\",\n",
    "    eval_strategy=\"epoch\",\n",
    "    save_strategy=\"epoch\",\n",
    "    per_device_train_batch_size=8,\n",
    "    per_device_eval_batch_size=8,\n",
    "    num_train_epochs=2,\n",
    "    weight_decay=0.01,\n",
    "    logging_dir=\"./logs\",\n",
    "    logging_steps=10,\n",
    "    load_best_model_at_end=True,\n",
    "    save_total_limit=2,\n",
    "    remove_unused_columns=False,\n",
    "    push_to_hub=True,\n",
    "    hub_model_id=\"sagar27kumar/sagarsahu_ECG-XRAY-ViT\",\n",
    "    no_cuda=True  # Force using CPU\n",
    ")\n",
    "\n",
    "\n",
    "\n",
    "# Define the Trainer\n",
    "trainer = Trainer(\n",
    "    model=model,\n",
    "    args=training_args,\n",
    "    train_dataset=prepared_dataset[\"train\"],\n",
    "    eval_dataset=prepared_dataset[\"validation\"],\n",
    "    tokenizer=processor,\n",
    "    data_collator=lambda data: {\n",
    "        \"pixel_values\": torch.stack([f[\"pixel_values\"] for f in data]),\n",
    "        \"labels\": torch.tensor([f[\"labels\"] for f in data], dtype=torch.long),  # Ensure correct shape and type\n",
    "    }\n",
    ")\n",
    "\n",
    "# Train the model\n",
    "trainer.train()\n",
    "\n",
    "# Save and push the model to Hugging Face Hub\n",
    "trainer.push_to_hub()\n"
   ]
  },
  {
   "cell_type": "code",
   "execution_count": 16,
   "metadata": {},
   "outputs": [
    {
     "name": "stderr",
     "output_type": "stream",
     "text": [
      "/var/folders/l_/sj267b1x1f30mq27_7k16jzh0000gn/T/ipykernel_2083/3324538771.py:12: FutureWarning: `tokenizer` is deprecated and will be removed in version 5.0.0 for `Trainer.__init__`. Use `processing_class` instead.\n",
      "  trainer = Trainer(\n"
     ]
    },
    {
     "data": {
      "text/html": [
       "\n",
       "    <div>\n",
       "      \n",
       "      <progress value='59' max='59' style='width:300px; height:20px; vertical-align: middle;'></progress>\n",
       "      [59/59 02:08]\n",
       "    </div>\n",
       "    "
      ],
      "text/plain": [
       "<IPython.core.display.HTML object>"
      ]
     },
     "metadata": {},
     "output_type": "display_data"
    },
    {
     "name": "stdout",
     "output_type": "stream",
     "text": [
      "Evaluation Results: {'eval_loss': 0.09193223714828491, 'eval_model_preparation_time': 0.0022, 'eval_accuracy': 0.9661016949152542, 'eval_precision': 1.0, 'eval_recall': 0.9661016949152542, 'eval_f1': 0.9824482109227872, 'eval_runtime': 132.3123, 'eval_samples_per_second': 3.567, 'eval_steps_per_second': 0.446}\n"
     ]
    },
    {
     "name": "stderr",
     "output_type": "stream",
     "text": [
      "/Users/sagarkumarsahu/Desktop/Heart-disease-prediction-using-ECG/.conda/lib/python3.11/site-packages/sklearn/metrics/_classification.py:1565: UndefinedMetricWarning: Recall is ill-defined and being set to 0.0 in labels with no true samples. Use `zero_division` parameter to control this behavior.\n",
      "  _warn_prf(average, modifier, f\"{metric.capitalize()} is\", len(result))\n"
     ]
    }
   ],
   "source": [
    "from sklearn.metrics import accuracy_score, precision_recall_fscore_support\n",
    "\n",
    "# Define the metrics function\n",
    "def compute_metrics(eval_pred):\n",
    "    logits, labels = eval_pred\n",
    "    predictions = torch.argmax(torch.tensor(logits), dim=-1)\n",
    "    accuracy = accuracy_score(labels, predictions)\n",
    "    precision, recall, f1, _ = precision_recall_fscore_support(labels, predictions, average=\"weighted\")\n",
    "    return {\"accuracy\": accuracy, \"precision\": precision, \"recall\": recall, \"f1\": f1}\n",
    "\n",
    "# Update the Trainer\n",
    "trainer = Trainer(\n",
    "    model=model,\n",
    "    args=training_args,\n",
    "    train_dataset=prepared_dataset[\"train\"],\n",
    "    eval_dataset=prepared_dataset[\"validation\"],\n",
    "    tokenizer=processor,\n",
    "    data_collator=data_collator,\n",
    "    compute_metrics=compute_metrics,  # Add this line\n",
    ")\n",
    "\n",
    "# Evaluate the model\n",
    "eval_results = trainer.evaluate()\n",
    "print(f\"Evaluation Results: {eval_results}\")\n"
   ]
  },
  {
   "cell_type": "code",
   "execution_count": null,
   "metadata": {},
   "outputs": [],
   "source": []
  }
 ],
 "metadata": {
  "kernelspec": {
   "display_name": "Python 3",
   "language": "python",
   "name": "python3"
  },
  "language_info": {
   "codemirror_mode": {
    "name": "ipython",
    "version": 3
   },
   "file_extension": ".py",
   "mimetype": "text/x-python",
   "name": "python",
   "nbconvert_exporter": "python",
   "pygments_lexer": "ipython3",
   "version": "3.11.11"
  }
 },
 "nbformat": 4,
 "nbformat_minor": 2
}
